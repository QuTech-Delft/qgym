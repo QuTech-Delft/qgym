{
 "cells": [
  {
   "cell_type": "markdown",
   "id": "7990980f",
   "metadata": {},
   "source": [
    "# Scheduling operations\n",
    "In this notebook we will cover the QGym `Scheduling` environment.\n",
    "\n",
    "This environment is aimed at solving the problem of scheduling operations in the best possibly way, whilst taking hardware constraints and commutation rules into account."
   ]
  },
  {
   "cell_type": "code",
   "execution_count": null,
   "id": "bec6f965",
   "metadata": {},
   "outputs": [],
   "source": [
    "%matplotlib inline\n",
    "import numpy as np\n",
    "import networkx as nx\n",
    "from networkx.generators import fast_gnp_random_graph\n",
    "import matplotlib.pyplot as plt\n",
    "from stable_baselines3 import PPO\n",
    "from stable_baselines3.common.env_checker import check_env\n",
    "from IPython.display import clear_output\n",
    "\n",
    "from qgym.envs.scheduling import Scheduling\n",
    "from qgym.envs.scheduling.scheduling_rewarders import EpisodeRewarder"
   ]
  },
  {
   "cell_type": "code",
   "execution_count": null,
   "id": "beb07d20",
   "metadata": {},
   "outputs": [],
   "source": [
    "def render_rgb(step, rgb_array):\n",
    "    clear_output(wait=True)\n",
    "    plt.figure(figsize=(40, 20))\n",
    "    plt.title(f\"Step {step}\", fontsize=40)\n",
    "    plt.imshow(rgb_array)\n",
    "    plt.axis(\"off\")\n",
    "    plt.show()"
   ]
  },
  {
   "cell_type": "code",
   "execution_count": null,
   "id": "c7f614d2",
   "metadata": {},
   "outputs": [],
   "source": [
    "hardware_spec = {\n",
    "    \"qubit_number\": 3,\n",
    "    \"gates\": {\n",
    "        \"prep\": 1,\n",
    "        \"x\": 2,\n",
    "        \"y\": 2,\n",
    "        \"z\": 2,\n",
    "        \"h\": 2,\n",
    "        \"cnot\": 4,\n",
    "        \"swap\": 3,\n",
    "        \"measure\": 10,\n",
    "    },\n",
    "    \"machine_restrictions\": {\n",
    "        \"same_start\": {\"measure\"},\n",
    "        \"not_in_same_cycle\": {\"x\": [\"y\", \"z\"], \"y\": [\"x\", \"z\"], \"z\": [\"x\", \"y\"]},\n",
    "    },\n",
    "}\n"
   ]
  },
  {
   "cell_type": "code",
   "execution_count": null,
   "id": "9364d08c",
   "metadata": {},
   "outputs": [],
   "source": [
    "env = Scheduling(hardware_spec, max_gates=10)\n",
    "env.rewarder = EpisodeRewarder(illegal_action_penalty=-10)\n",
    "check_env(env, warn=True)\n",
    "\n",
    "model = PPO(\"MultiInputPolicy\", env, verbose=1)\n",
    "\n",
    "model.learn(int(2e6))"
   ]
  },
  {
   "cell_type": "code",
   "execution_count": null,
   "id": "2f96c2bb",
   "metadata": {},
   "outputs": [],
   "source": [
    "obs = env.reset()\n",
    "for i in range(1000):\n",
    "    action, states = model.predict(obs, deterministic=False)\n",
    "    obs, rewards, done, info = env.step(action)\n",
    "    render_rgb(i, env.render(mode=\"rgb_array\"))\n",
    "    if done:\n",
    "        break"
   ]
  }
 ],
 "metadata": {
  "kernelspec": {
   "display_name": "Python 3 (ipykernel)",
   "language": "python",
   "name": "python3"
  },
  "language_info": {
   "codemirror_mode": {
    "name": "ipython",
    "version": 3
   },
   "file_extension": ".py",
   "mimetype": "text/x-python",
   "name": "python",
   "nbconvert_exporter": "python",
   "pygments_lexer": "ipython3",
   "version": "3.9.10"
  }
 },
 "nbformat": 4,
 "nbformat_minor": 5
}
