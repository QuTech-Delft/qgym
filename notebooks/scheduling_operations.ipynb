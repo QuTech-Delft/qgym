{
 "cells": [
  {
   "cell_type": "markdown",
   "id": "7990980f",
   "metadata": {},
   "source": [
    "# Scheduling operations\n",
    "In this notebook we will cover the QGym `Scheduling` environment.\n",
    "\n",
    "This environment is aimed at solving the problem of scheduling operations in the best possibly way, whilst taking hardware constraints and commutation rules into account."
   ]
  },
  {
   "cell_type": "code",
   "execution_count": null,
   "id": "bec6f965",
   "metadata": {},
   "outputs": [],
   "source": []
  }
 ],
 "metadata": {
  "kernelspec": {
   "display_name": "Python 3 (ipykernel)",
   "language": "python",
   "name": "python3"
  },
  "language_info": {
   "codemirror_mode": {
    "name": "ipython",
    "version": 3
   },
   "file_extension": ".py",
   "mimetype": "text/x-python",
   "name": "python",
   "nbconvert_exporter": "python",
   "pygments_lexer": "ipython3",
   "version": "3.9.10"
  }
 },
 "nbformat": 4,
 "nbformat_minor": 5
}
