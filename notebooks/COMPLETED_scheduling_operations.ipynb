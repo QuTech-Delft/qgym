{
 "cells": [
  {
   "cell_type": "markdown",
   "id": "bae3b947",
   "metadata": {},
   "source": [
    "# Scheduling operations\n",
    "In this notebook we will cover the QGym `Scheduling` environment.\n",
    "\n",
    "This environment is aimed at finding the shortest possible schedules of operations defined by random quantum circuits, whilst taking hardware constraints and commutation rules into account."
   ]
  },
  {
   "cell_type": "code",
   "execution_count": null,
   "id": "1408f510",
   "metadata": {},
   "outputs": [],
   "source": [
    "%matplotlib inline\n",
    "import numpy as np\n",
    "import networkx as nx\n",
    "from networkx.generators import fast_gnp_random_graph\n",
    "import matplotlib.pyplot as plt\n",
    "from stable_baselines3 import PPO\n",
    "from stable_baselines3.common.env_checker import check_env\n",
    "from IPython.display import clear_output\n",
    "\n",
    "from qgym.custom_types import Gate\n",
    "from qgym.envs.scheduling import Scheduling\n",
    "from qgym.envs.scheduling.scheduling_rewarders import EpisodeRewarder"
   ]
  },
  {
   "cell_type": "code",
   "execution_count": null,
   "id": "fdbdc678",
   "metadata": {},
   "outputs": [],
   "source": [
    "def render_rgb(step, rgb_array):\n",
    "    clear_output(wait=True)\n",
    "    plt.figure(figsize=(40, 20))\n",
    "    plt.title(f\"Step {step}\", fontsize=40)\n",
    "    plt.imshow(rgb_array)\n",
    "    plt.axis(\"off\")\n",
    "    plt.show()"
   ]
  },
  {
   "attachments": {
    "circuit.png": {
     "image/png": "[encoded data removed]"
    }
   },
   "cell_type": "markdown",
   "id": "0dc96100",
   "metadata": {},
   "source": [
    "### Circuits\n",
    "\n",
    "The scheduling problem consits of scheduling the operations described by quantum circuit. \n",
    "In this model a quantum quantum circuit is defined as a list of gates, where a gate is a `namedtuple` with a `name`, `q1` and `q2`.\n",
    "For example a c-not with control qubit 2 and targer qubit 5 would be be `Gate(\"cnot\", 2, 5)` and a X gate acting on qubit 4 would be `Gate(\"x\", 4, 4)`.\n",
    "In this representation, the circuit below is given by `[Gate(\"x\", 1,1), Gate(\"cnot\", 1,0), Gate(\"x\", 0,0), Gate(\"h\", 1,1)]`.\n",
    "![circuit.png](attachment:circuit.png)\n",
    "\n",
    "\n",
    "###  Hardware specifications\n",
    "\n",
    "Different operations defined by a quantum circuit have different operation times, which are defined in the unit of machine cycles.\n",
    "For example, a X gate could take 2 machine cycles, whereas a measurement could take 15 cycles.\n",
    "These different operation times must be taken into account, because only one operation can be perfomred on a qubit at the same time.\n",
    "\n",
    "Finding a optimal schedule with these restriction is already a difficult task.\n",
    "However, to complicate matters there are also certain limitations defined by the hardware.\n",
    "To be more concrete, we take two types of limitations into accout:\n",
    "\n",
    "1. Some gates must start at the same time, or must wait till the previous one is finished. This is typically the case for measurements.\n",
    "2. Some gates can't be executed in the same cycle. This for example happens often with X, Y and Z gates.\n",
    "\n",
    "\n",
    "The goal of this scheduling problem is to find an optimal schedule which takes these hardware limitations into account, as well as some optional commutation rules.\n",
    "\n",
    "### Toy hardware\n",
    "\n",
    "To explain this concept in more detail we start by defining a some toy hardware specifications.\n"
   ]
  },
  {
   "cell_type": "code",
   "execution_count": null,
   "id": "89fe5864",
   "metadata": {},
   "outputs": [],
   "source": [
    "hardware_spec = {\n",
    "    \"qubit_number\": 2,\n",
    "    \"gates\": {\n",
    "        \"x\": 2,\n",
    "        \"y\": 2,\n",
    "        \"cnot\": 4,\n",
    "        \"measure\": 10,\n",
    "    },\n",
    "    \"machine_restrictions\": {\n",
    "        \"same_start\": {\"measure\"},\n",
    "        \"not_in_same_cycle\": {\"x\": [\"y\"], \"y\": [\"x\"]},\n",
    "    },\n",
    "}"
   ]
  },
  {
   "cell_type": "markdown",
   "id": "b59a28ee",
   "metadata": {},
   "source": [
    "### `Scheduling` environment\n",
    "\n",
    "The `Scheduling` environment can be initialized by providing:\n",
    "- hardware specifications; and\n",
    "- a maximum circuit length, measured in the total number of gates of the circuit."
   ]
  },
  {
   "cell_type": "code",
   "execution_count": null,
   "id": "b6ccf00f",
   "metadata": {},
   "outputs": [],
   "source": [
    "env = Scheduling(hardware_spec, max_gates=6, random_circuit_mode=\"workshop\")"
   ]
  },
  {
   "cell_type": "markdown",
   "id": "9de15a1a",
   "metadata": {},
   "source": [
    "#### State space\n",
    "The state space is described by a dictionary with the following structure:\n",
    "\n",
    "- `max_gates`: Maximimim circuit length.\n",
    "- `n_qubits`: Number of physical qubits.\n",
    "- `gate_cycle_length`: Mapping of integer encoded gates and there respective cycle length.\n",
    "- `same_start`: Set of integer encoded gates that should start in the same cycle.\n",
    "- `not_in_same_cycle`: Mapping of integer encoded gates that can't start in the same cycle.\n",
    "- `steps_done`: Number of steps done since the last reset.\n",
    "- `cycle`: Cycle we are currently in.\n",
    "- `busy`: Used internally for the hardware limitations.\n",
    "- `dependencies`: Shows the first $n$ gates that must be scheduled before this gate.\n",
    "- `encoded_circuit`: Integer encoded representation of the circuit to schedule.\n",
    "- `gate_names`: Gate names of the encoded circuit.\n",
    "- `acts_on`: q1 and q2 of each gate.\n",
    "- `legal_actions`: List of legal actions. If the value at index $i$ determines if gate number $i$ can be scheduled or not."
   ]
  },
  {
   "cell_type": "code",
   "execution_count": null,
   "id": "cfd97ef0",
   "metadata": {},
   "outputs": [],
   "source": [
    "env.reset()\n",
    "print(env._state)"
   ]
  },
  {
   "cell_type": "markdown",
   "id": "450fdfe4",
   "metadata": {},
   "source": [
    "#### Observation space\n",
    "\n",
    "Each element in the observation space is a dictionary with 2 entries:\n",
    "- `gate_names`: Gate names of the encoded circuit.\n",
    "- `acts_on`: q1 and q2 of each gate.\n",
    "- `dependencies`: Shows the first $n$ gates that must be scheduled before this gate.\n",
    "- `legal_actions`: List of legal actions. If the value at index  $i$  determines if gate number $i$ can be scheduled or not."
   ]
  },
  {
   "cell_type": "code",
   "execution_count": null,
   "id": "ce366c24",
   "metadata": {},
   "outputs": [],
   "source": [
    "print(env.observation_space)\n",
    "print()\n",
    "print(env.reset())"
   ]
  },
  {
   "cell_type": "markdown",
   "id": "8e5c6cd0",
   "metadata": {},
   "source": [
    "#### Action space\n",
    "A valid action is a tuple of integers $(i,j)$, such that $0 \\leq i < $ `max_gates` and $j$ is binary. \n",
    "The schedules gate $i$ in the current cycle and $j$ increments the cycle number.\n",
    "\n",
    "However, a gate is only scheduled if the action is legal."
   ]
  },
  {
   "cell_type": "code",
   "execution_count": null,
   "id": "6b2c2ea5",
   "metadata": {},
   "outputs": [],
   "source": [
    "print(env.action_space)"
   ]
  },
  {
   "cell_type": "markdown",
   "id": "0032907e",
   "metadata": {},
   "source": [
    "#### Rewarders\n",
    "\n",
    "We have pre-defined 2 different rewarders, which return a penalty when an illegal action is attempted, for a valid action their behaviour is as follows:\n",
    "\n",
    "- `BasicRewarder`: Every step gives a reward.\n",
    "- `EpisodeRewarder`: Only the final step results in a reward.\n",
    "\n",
    "Both rewarders can be tweaked by altering either of their parameters:\n",
    "\n",
    "- `illegal_action_penalty`: penalty given for attempting an illegal action (should be non-positive)\n",
    "- `update_cycle_penalty`: penalty given for incrementing the cycle (should be non-positive)\n",
    "- `schedule_gate_bonus`: reward given for correctly scheduling a gate (should be non-negative)"
   ]
  },
  {
   "cell_type": "markdown",
   "id": "f32a3d76",
   "metadata": {},
   "source": [
    "<br/>\n",
    "<br/>\n",
    "<br/>\n",
    "<br/>\n",
    "\n",
    "### Reinforcement learning\n",
    "\n",
    "Can we achieve usefull schedules with reinforcement learning?\n",
    "\n",
    "Does changing the rewarder and/or its parameter give better results?"
   ]
  },
  {
   "cell_type": "code",
   "execution_count": null,
   "id": "ef663eb0",
   "metadata": {},
   "outputs": [],
   "source": [
    "#env.rewarder = EpisodeRewarder(illegal_action_penalty=-10)\n",
    "check_env(env, warn=True)\n",
    "\n",
    "model = PPO(\"MultiInputPolicy\", env, verbose=1)\n",
    "\n",
    "model.learn(int(1e5))"
   ]
  },
  {
   "cell_type": "markdown",
   "id": "487bd924",
   "metadata": {},
   "source": [
    "Lets give it the following circuit and see what kind of schedule the agent produces:\n",
    "\n",
    "\n",
    "```\n",
    "           -----  -----               -----------\n",
    "q1---------| Y |--| X |---------------| Measure |---\n",
    "           -----  -----               -----------\n",
    "    -----                -----------\n",
    "q0--| X |----------------| Measure |----------------\n",
    "    -----                -----------\n",
    "```"
   ]
  },
  {
   "cell_type": "code",
   "execution_count": null,
   "id": "6f9703e2",
   "metadata": {},
   "outputs": [],
   "source": [
    "circuit = [Gate(\"x\", 0, 0), Gate(\"y\", 1, 1), Gate(\"x\", 1, 1), Gate(\"measure\", 0, 0), Gate(\"measure\", 1, 1)] \n",
    "obs = env.reset(circuit = circuit)\n",
    "for i in range(1000):\n",
    "    action, states = model.predict(obs, deterministic=False)\n",
    "    obs, rewards, done, info = env.step(action)\n",
    "    render_rgb(i, env.render(mode=\"rgb_array\"))\n",
    "    if done:\n",
    "        break"
   ]
  },
  {
   "cell_type": "markdown",
   "id": "413d4bb2",
   "metadata": {},
   "source": [
    "Let's also try some randomly generated circuits."
   ]
  },
  {
   "cell_type": "code",
   "execution_count": null,
   "id": "ab9203b1",
   "metadata": {},
   "outputs": [],
   "source": [
    "obs = env.reset()\n",
    "for i in range(1000):\n",
    "    action, states = model.predict(obs, deterministic=False)\n",
    "    obs, rewards, done, info = env.step(action)\n",
    "    render_rgb(i, env.render(mode=\"rgb_array\"))\n",
    "    if done:\n",
    "        break"
   ]
  },
  {
   "cell_type": "code",
   "execution_count": null,
   "id": "ca17805b",
   "metadata": {},
   "outputs": [],
   "source": []
  },
  {
   "cell_type": "code",
   "execution_count": null,
   "id": "30b3863b",
   "metadata": {},
   "outputs": [],
   "source": []
  }
 ],
 "metadata": {
  "kernelspec": {
   "display_name": "Python 3 (ipykernel)",
   "language": "python",
   "name": "python3"
  },
  "language_info": {
   "codemirror_mode": {
    "name": "ipython",
    "version": 3
   },
   "file_extension": ".py",
   "mimetype": "text/x-python",
   "name": "python",
   "nbconvert_exporter": "python",
   "pygments_lexer": "ipython3",
   "version": "3.8.5"
  }
 },
 "nbformat": 4,
 "nbformat_minor": 5
}
