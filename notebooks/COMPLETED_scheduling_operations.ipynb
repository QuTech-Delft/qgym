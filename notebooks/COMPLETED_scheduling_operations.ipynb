{
 "cells": [
  {
   "cell_type": "markdown",
   "id": "bae3b947",
   "metadata": {},
   "source": [
    "# Scheduling quantum operations\n",
    "In this notebook we will cover the QGym `Scheduling` environment.\n",
    "\n",
    "This environment is aimed at finding the shortest possible schedules of operations defined by random quantum circuits, whilst taking hardware constraints and commutation rules into account."
   ]
  },
  {
   "cell_type": "code",
   "execution_count": null,
   "id": "1408f510",
   "metadata": {},
   "outputs": [],
   "source": [
    "%matplotlib inline\n",
    "import matplotlib.pyplot as plt\n",
    "from stable_baselines3 import PPO\n",
    "from stable_baselines3.common.env_checker import check_env\n",
    "from IPython.display import clear_output\n",
    "\n",
    "from qgym.custom_types import Gate\n",
    "from qgym.envs.scheduling import *"
   ]
  },
  {
   "cell_type": "code",
   "execution_count": null,
   "id": "fdbdc678",
   "metadata": {},
   "outputs": [],
   "source": [
    "def render_rgb(step, rgb_array):\n",
    "    \"\"\"\n",
    "    Convenience method that we will use later on to display our results.\n",
    "    \"\"\"\n",
    "    clear_output(wait=True)\n",
    "    plt.figure(figsize=(40, 20))\n",
    "    plt.title(f\"Step {step}\", fontsize=40)\n",
    "    plt.imshow(rgb_array)\n",
    "    plt.axis(\"off\")\n",
    "    plt.show()"
   ]
  },
  {
   "attachments": {
    "circuit1-2.png": {
     "image/png": "[encoded data removed]"
    }
   },
   "cell_type": "markdown",
   "id": "0dc96100",
   "metadata": {},
   "source": [
    "### Circuits\n",
    "\n",
    "The scheduling problem consist of scheduling the operations described by a quantum circuit. \n",
    "In this model, a quantum circuit is defined as a list of gates, where a gate is a `namedtuple` with a `name`, `q1` and `q2`.\n",
    "For example, a c-not with control qubit 2 and target qubit 5 would be `Gate(\"cnot\", 2, 5)` and a X gate acting on qubit 4 would be `Gate(\"x\", 4, 4)`.\n",
    "In this representation, the circuit below is given by `[Gate(\"x\", 1, 1), Gate(\"cnot\", 0, 1), Gate(\"x\", 0, 0), Gate(\"h\", 1, 1)]`.\n",
    "![circuit1-2.png](attachment:circuit1-2.png)\n",
    "\n",
    "\n",
    "###  Hardware specifications\n",
    "\n",
    "Different operations defined by a quantum circuit have different operation times.\n",
    "These operation times are defined in the unit of machine cycles.\n",
    "For example, a X gate could take 2 machine cycles, whereas a measurement could take 15 cycles.\n",
    "These different operation times must be taken into account, because we cannot perform multiple operations on the same qubit at the same time.\n",
    "\n",
    "Finding an optimal schedule with these restriction is already a difficult task.\n",
    "However, to complicate matters there are also certain limitations defined by the hardware.\n",
    "To be more concrete, we take two types of limitations into account:\n",
    "\n",
    "1. Some gates must start at the same time, or must wait till the previous one is finished. This is typically the case for measurements.\n",
    "2. Some gates can't be executed in the same cycle. This for example happens often with X, Y and Z gates.\n",
    "\n",
    "\n",
    "The goal of this scheduling problem is to find an optimal schedule which takes these hardware limitations into account, as well as some optional commutation rules.\n",
    "\n",
    "### Toy hardware\n",
    "\n",
    "To explain this concept in more detail we start by defining a some toy hardware specifications.\n"
   ]
  },
  {
   "cell_type": "code",
   "execution_count": null,
   "id": "89fe5864",
   "metadata": {},
   "outputs": [],
   "source": [
    "hardware_spec = MachineProperties(n_qubits=2)\n",
    "hardware_spec.add_gates({\"x\": 2, \"y\": 2, \"cnot\": 4, \"measure\": 10})\n",
    "hardware_spec.add_same_start([\"measure\"])\n",
    "hardware_spec.add_not_in_same_cycle([(\"x\", \"y\")])\n",
    "print(hardware_spec)"
   ]
  },
  {
   "cell_type": "markdown",
   "id": "b59a28ee",
   "metadata": {},
   "source": [
    "### `Scheduling` environment\n",
    "\n",
    "The `Scheduling` environment can be initialized by providing:\n",
    "- hardware specifications; and\n",
    "- a maximum circuit length, measured in the total number of gates of the circuit."
   ]
  },
  {
   "cell_type": "code",
   "execution_count": null,
   "id": "b6ccf00f",
   "metadata": {},
   "outputs": [],
   "source": [
    "env = Scheduling(hardware_spec, max_gates=5, random_circuit_mode=\"workshop\")"
   ]
  },
  {
   "cell_type": "markdown",
   "id": "9de15a1a",
   "metadata": {},
   "source": [
    "#### State space\n",
    "The state space is described by a dictionary with the following structure:\n",
    "\n",
    "- `machine_properties`: MachineProperties object containing machine properties and limitations.\n",
    "- `utils`: ``SchedulingUtils`` dataclass with a random circuit generator, commutation rulebook and a gate encoder.\n",
    "- `gates`: Dictionary with gate names as keys and ``GateInfo`` dataclasses as values.\n",
    "- `steps_done`: Number of steps done since the last reset.\n",
    "- `cycle`: Current 'machine' cycle.\n",
    "- `busy`: Used internally for the hardware limitations.\n",
    "- `circuit_info`: ``CircuitInfo`` dataclass containing the encoded circuit and attributes used to update the state.\n",
    "\n",
    "### To Do\n",
    "Take a look at the state space in the code block below."
   ]
  },
  {
   "cell_type": "code",
   "execution_count": null,
   "id": "cfd97ef0",
   "metadata": {},
   "outputs": [],
   "source": [
    "env.reset()\n",
    "print(env._state)"
   ]
  },
  {
   "cell_type": "markdown",
   "id": "450fdfe4",
   "metadata": {},
   "source": [
    "#### Observation space\n",
    "\n",
    "Each element in the observation space is a dictionary with 2 entries:\n",
    "- `gate_names`: Gate names of the encoded circuit.\n",
    "- `acts_on`: q1 and q2 of each gate.\n",
    "- `dependencies`: Shows the first $n$ gates that must be scheduled before this gate.\n",
    "- `legal_actions`: List of legal actions. If the value at index  $i$  determines if gate number $i$ can be scheduled or not.\n",
    "\n",
    "### To Do\n",
    "Use the code block below to take a look at the observation space and see what the `reset` method returns."
   ]
  },
  {
   "cell_type": "code",
   "execution_count": null,
   "id": "ce366c24",
   "metadata": {},
   "outputs": [],
   "source": [
    "print(env.observation_space)\n",
    "print()\n",
    "print(env.reset())"
   ]
  },
  {
   "cell_type": "markdown",
   "id": "8e5c6cd0",
   "metadata": {},
   "source": [
    "#### Action space\n",
    "\n",
    "Performing a quantum operation takes a certain amount of time, which will be measured in (machine) cycles.\n",
    "Therefore, this environment  aims to produces a schedule in terms of cycles.\n",
    "To do this, the  environment  schedules the circuit from right to left, so cycle zero in the schedule is the last operation to be performed in that schedule.\n",
    "Based on this idea, a valid action is then a tuple of an integer $i\\in\\{0,1,\\ldots,$ `max_gates`$\\}$ and a binary value $j$.\n",
    "The integer value $i$ schedules gate $i$ in the current cycle and the binary value $j$ increment the cycle number.\n",
    "\n",
    "If the action is illegal (for example when we try to schedule a gate that has been scheduled already), then the environment will do nothing and the rewarder should give a penalty for this.\n",
    "\n",
    "### To Do\n",
    "Take a look at the action space in the code block below."
   ]
  },
  {
   "cell_type": "code",
   "execution_count": null,
   "id": "6b2c2ea5",
   "metadata": {},
   "outputs": [],
   "source": [
    "print(env.action_space)"
   ]
  },
  {
   "cell_type": "markdown",
   "id": "0032907e",
   "metadata": {},
   "source": [
    "#### Rewarders\n",
    "\n",
    "We have pre-defined 2 different rewarders, which return a penalty when an illegal action is attempted, for a valid action their behavior is as follows:\n",
    "\n",
    "\n",
    "- `BasicRewarder`: Every step gives a reward.\n",
    "- `EpisodeRewarder`: Only the final step results in a reward.\n",
    "\n",
    "Both rewarders can be tweaked by altering either of their parameters:\n",
    "\n",
    "- `illegal_action_penalty`: penalty given for attempting an illegal action (should be non-positive)\n",
    "- `update_cycle_penalty`: penalty given for incrementing the cycle (should be non-positive)\n",
    "- `schedule_gate_bonus`: reward given for scheduling a gate (should be non-negative) (`BasicRewarder` only)"
   ]
  },
  {
   "cell_type": "markdown",
   "id": "f32a3d76",
   "metadata": {},
   "source": [
    "<br/>\n",
    "<br/>\n",
    "<br/>\n",
    "<br/>\n",
    "\n",
    "### Reinforcement learning\n",
    "\n",
    "Can we achieve useful schedules with reinforcement learning?\n",
    "\n",
    "Does changing the rewarder and/or its parameter give better results?\n",
    "\n",
    "### To Do\n",
    "Use the first code block to use your favorite rewarder.\n",
    "Next, use the second code block to train an agent."
   ]
  },
  {
   "cell_type": "code",
   "execution_count": null,
   "id": "ef663eb0",
   "metadata": {},
   "outputs": [],
   "source": [
    "env.rewarder = BasicRewarder(illegal_action_penalty=-5)"
   ]
  },
  {
   "cell_type": "code",
   "execution_count": null,
   "id": "5e64427b",
   "metadata": {},
   "outputs": [],
   "source": [
    "check_env(env, warn=True)\n",
    "\n",
    "model = PPO(\"MultiInputPolicy\", env, verbose=1)\n",
    "\n",
    "model.learn(int(1e5))\n",
    "model.save(\"scheduling_1\")"
   ]
  },
  {
   "attachments": {
    "circuit2.png": {
     "image/png": "[encoded data removed]"
    }
   },
   "cell_type": "markdown",
   "id": "487bd924",
   "metadata": {},
   "source": [
    "Let's give it the circuit below and see what kind of schedule the agent produces.\n",
    "\n",
    "![circuit2.png](attachment:circuit2.png)\n",
    "\n",
    "### To Do\n",
    "Implement the circuit in the first code block.\n",
    "Use the second code block to see how well the agent schedules the circuit."
   ]
  },
  {
   "cell_type": "code",
   "execution_count": null,
   "id": "6f9703e2",
   "metadata": {},
   "outputs": [],
   "source": [
    "circuit = [\n",
    "    Gate(\"x\", 0, 0),\n",
    "    Gate(\"y\", 1, 1),\n",
    "    Gate(\"x\", 1, 1),\n",
    "    Gate(\"measure\", 0, 0),\n",
    "    Gate(\"measure\", 1, 1),\n",
    "]"
   ]
  },
  {
   "cell_type": "code",
   "execution_count": null,
   "id": "36cbc85a",
   "metadata": {},
   "outputs": [],
   "source": [
    "model = PPO.load(\"scheduling_1\")\n",
    "obs = env.reset(circuit=circuit)\n",
    "for i in range(1000):\n",
    "    action, states = model.predict(obs, deterministic=False)\n",
    "    obs, rewards, done, info = env.step(action)\n",
    "    render_rgb(i, env.render(mode=\"rgb_array\"))\n",
    "    if done:\n",
    "        break"
   ]
  },
  {
   "cell_type": "markdown",
   "id": "413d4bb2",
   "metadata": {},
   "source": [
    "Let's also try some randomly generated circuits."
   ]
  },
  {
   "cell_type": "code",
   "execution_count": null,
   "id": "ab9203b1",
   "metadata": {},
   "outputs": [],
   "source": [
    "obs = env.reset()\n",
    "for i in range(1000):\n",
    "    action, states = model.predict(obs, deterministic=False)\n",
    "    obs, rewards, done, info = env.step(action)\n",
    "    render_rgb(i, env.render(mode=\"rgb_array\"))\n",
    "    if done:\n",
    "        break"
   ]
  },
  {
   "attachments": {
    "circuit3.png": {
     "image/png": "[encoded data removed]"
    }
   },
   "cell_type": "markdown",
   "id": "58fece98",
   "metadata": {},
   "source": [
    "### Commutation Rules\n",
    "Taking machine properties into account already makes the scheduling problem very difficult to solve.\n",
    "Even so, the resulting schedules still don't provide a true optimal schedule\n",
    "For example, commutation rules can also be taken into account.\n",
    "Under the hood of this environment, two very basic 'commutation rules' are already taken into account:\n",
    "1. If two gates are exactly equal (same gate, same control qubit and same target qubit), then they commute.\n",
    "2. If two gates don't have any qubits in common (the gates are disjoint), then they commute.\n",
    "\n",
    "However, it is possible to extend the logic of the commutation rules by providing a custom commutation `CommutationRulebook` when initializing the environment.\n",
    "By default, the `Rulebook` already takes into account the two rules above, but can be set to also take more rules into account.\n",
    "To do this, we must provide a `callable` (function) which takes as input two gates and as output a Boolean value.\n",
    "\n",
    "Let's try to implement the following commutation rule:\n",
    " - A c-not gate and a X gate commute if the X gates acts on the same qubit as the target of the c-not.\n",
    "![circuit3.png](attachment:circuit3.png)\n",
    "\n",
    "\n",
    "\n",
    "To start we import and initialize the `CommutationRulebook`"
   ]
  },
  {
   "cell_type": "code",
   "execution_count": null,
   "id": "ca17805b",
   "metadata": {},
   "outputs": [],
   "source": [
    "from qgym.envs.scheduling.rulebook import CommutationRulebook\n",
    "\n",
    "rulebook = CommutationRulebook()"
   ]
  },
  {
   "cell_type": "markdown",
   "id": "784f2ca7",
   "metadata": {},
   "source": [
    "Next we make the rule and add it to the `CommutationRulebook`.\n",
    "Remember that a gate is `namedtuple` with `name`, `q1` (control qubit) and `q2` (target qubit).\n",
    "\n",
    "### To Do\n",
    "Use the code block below to implement the commutation rule."
   ]
  },
  {
   "cell_type": "code",
   "execution_count": null,
   "id": "30b3863b",
   "metadata": {},
   "outputs": [],
   "source": [
    "def cnot_x_commutation(gate1, gate2):\n",
    "    if gate1.name == \"cnot\" and gate2.name == \"x\":\n",
    "        if gate1.q2 == gate2.q1:\n",
    "            return True\n",
    "\n",
    "    if gate1.name == \"x\" and gate2.name == \"cnot\":\n",
    "        if gate1.q1 == gate2.q2:\n",
    "            return True\n",
    "\n",
    "    return False\n",
    "\n",
    "\n",
    "rulebook.add_rule(cnot_x_commutation)"
   ]
  },
  {
   "cell_type": "markdown",
   "id": "560de4fd",
   "metadata": {},
   "source": [
    "Finally we add the `CommutationRulebook` to a new `Scheduling` environment and we train a new agent.\n",
    "\n",
    "### To Do\n",
    "Use the first code block to pick your favorite rewarder.\n",
    "Next, use the second code block to train an agent."
   ]
  },
  {
   "cell_type": "code",
   "execution_count": null,
   "id": "16ad661d",
   "metadata": {},
   "outputs": [],
   "source": [
    "env_com = Scheduling(\n",
    "    hardware_spec,\n",
    "    max_gates=5,\n",
    "    rulebook=rulebook,\n",
    "    random_circuit_mode=\"workshop\",\n",
    ")\n",
    "\n",
    "env_com.rewarder = BasicRewarder(illegal_action_penalty=-5)"
   ]
  },
  {
   "cell_type": "code",
   "execution_count": null,
   "id": "ff83c687",
   "metadata": {},
   "outputs": [],
   "source": [
    "check_env(env, warn=True)\n",
    "\n",
    "model_com = PPO(\"MultiInputPolicy\", env, verbose=1)\n",
    "\n",
    "model_com.learn(int(1e5))\n",
    "model.save(\"scheduling_2\")"
   ]
  },
  {
   "attachments": {
    "circuit4.png": {
     "image/png": "[encoded data removed]"
    }
   },
   "cell_type": "markdown",
   "id": "fa22ed20",
   "metadata": {},
   "source": [
    "Let's see how well what kind of schedule the agent makes for the circuit below.\n",
    "![circuit4.png](attachment:circuit4.png)\n",
    "\n",
    "### To Do\n",
    "Use the first code block to implement the circuit.\n",
    "Use the second code block to see if the agent uses the new commutation rule."
   ]
  },
  {
   "cell_type": "code",
   "execution_count": null,
   "id": "c5afabb2",
   "metadata": {},
   "outputs": [],
   "source": [
    "circuit = [Gate(\"x\", 1, 1), Gate(\"cnot\", 0, 1), Gate(\"measure\", 0, 0)]"
   ]
  },
  {
   "cell_type": "code",
   "execution_count": null,
   "id": "7da5461b",
   "metadata": {},
   "outputs": [],
   "source": [
    "model = PPO.load(\"scheduling_2\")\n",
    "obs = env_com.reset(circuit=circuit)\n",
    "for i in range(1000):\n",
    "    action, states = model.predict(obs, deterministic=False)\n",
    "    obs, rewards, done, info = env_com.step(action)\n",
    "    render_rgb(i, env_com.render(mode=\"rgb_array\"))\n",
    "    if done:\n",
    "        break"
   ]
  },
  {
   "cell_type": "code",
   "execution_count": null,
   "id": "f76c9137",
   "metadata": {},
   "outputs": [],
   "source": []
  },
  {
   "cell_type": "code",
   "execution_count": null,
   "id": "1bd6c589",
   "metadata": {},
   "outputs": [],
   "source": []
  }
 ],
 "metadata": {
  "kernelspec": {
   "display_name": "Python 3 (ipykernel)",
   "language": "python",
   "name": "python3"
  },
  "language_info": {
   "codemirror_mode": {
    "name": "ipython",
    "version": 3
   },
   "file_extension": ".py",
   "mimetype": "text/x-python",
   "name": "python",
   "nbconvert_exporter": "python",
   "pygments_lexer": "ipython3",
   "version": "3.8.10"
  }
 },
 "nbformat": 4,
 "nbformat_minor": 5
}
