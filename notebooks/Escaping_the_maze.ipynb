{
 "cells": [
  {
   "cell_type": "markdown",
   "id": "92bf2014",
   "metadata": {},
   "source": [
    "# Escaping the maze\n",
    "In this notebook we will cover the basics of a reinforcement learning (RL) environment.\n",
    "\n",
    "Specifically, we will cover the observation, action, and state space following the example of a maze."
   ]
  },
  {
   "cell_type": "code",
   "execution_count": null,
   "id": "414c1017",
   "metadata": {},
   "outputs": [],
   "source": [
    "from qgym.environment import Environment\n",
    "from qgym.rewarder import Rewarder"
   ]
  },
  {
   "cell_type": "markdown",
   "id": "1ee272ea",
   "metadata": {},
   "source": [
    "## Map of the maze\n",
    "\n",
    "Our maze will have 4 different field types.\n",
    "\n",
    "- `S`: start position\n",
    "- `F`: a free field\n",
    "- `W`: a wall\n",
    "- `G`: the goal"
   ]
  },
  {
   "cell_type": "code",
   "execution_count": null,
   "id": "11268d17",
   "metadata": {},
   "outputs": [],
   "source": [
    "maze_map_4x4 = [\n",
    "    \"SFFF\",\n",
    "    \"FWFW\",\n",
    "    \"FFFW\",\n",
    "    \"WFFG\"\n",
    "]"
   ]
  },
  {
   "cell_type": "code",
   "execution_count": null,
   "id": "fc553ae4",
   "metadata": {},
   "outputs": [],
   "source": [
    "class Maze(Environment):\n",
    "    def __init__(self, maze_map):\n",
    "        self.action_space = None\n",
    "        self.observation_space = None\n",
    "        self.metadata = None  # can we skip this?\n",
    "        self._state = None\n",
    "        self._rewarder = None\n",
    "    \n",
    "    def _update_state(self, action):\n",
    "        pass\n",
    "    \n",
    "    def _obtain_observation(self):\n",
    "        pass\n",
    "    \n",
    "    def _is_done(self):\n",
    "        pass\n",
    "    \n",
    "    def _obtain_info(self):\n",
    "        pass"
   ]
  },
  {
   "cell_type": "code",
   "execution_count": null,
   "id": "37532223",
   "metadata": {},
   "outputs": [],
   "source": [
    "class MazeRewarder(Rewarder):\n",
    "    pass"
   ]
  },
  {
   "cell_type": "code",
   "execution_count": null,
   "id": "eefb04fe",
   "metadata": {},
   "outputs": [],
   "source": [
    "# todo: run"
   ]
  }
 ],
 "metadata": {
  "kernelspec": {
   "display_name": "Python 3 (ipykernel)",
   "language": "python",
   "name": "python3"
  },
  "language_info": {
   "codemirror_mode": {
    "name": "ipython",
    "version": 3
   },
   "file_extension": ".py",
   "mimetype": "text/x-python",
   "name": "python",
   "nbconvert_exporter": "python",
   "pygments_lexer": "ipython3",
   "version": "3.9.10"
  }
 },
 "nbformat": 4,
 "nbformat_minor": 5
}
