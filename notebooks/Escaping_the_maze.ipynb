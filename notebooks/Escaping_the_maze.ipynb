{
 "cells": [
  {
   "cell_type": "markdown",
   "id": "2b9db6c6",
   "metadata": {},
   "source": [
    "# Escaping the maze\n",
    "In this notebook we will cover the basics of a reinforcement learning (RL) environment.\n",
    "\n",
    "Specifically, we will cover the observation, action, and state space following the example of a maze."
   ]
  },
  {
   "cell_type": "code",
   "execution_count": null,
   "id": "fd92f2ad",
   "metadata": {},
   "outputs": [],
   "source": [
    "import numpy as np\n",
    "\n",
    "from qgym.environment import Environment\n",
    "from qgym.rewarder import Rewarder"
   ]
  },
  {
   "cell_type": "markdown",
   "id": "8c97f8a4",
   "metadata": {},
   "source": [
    "## Map of the maze\n",
    "\n",
    "Our maze will have 4 different field types.\n",
    "\n",
    "- `S`: start position\n",
    "- `F`: a free field\n",
    "- `W`: a wall\n",
    "- `G`: the goal"
   ]
  },
  {
   "cell_type": "code",
   "execution_count": null,
   "id": "e5fc824f",
   "metadata": {},
   "outputs": [],
   "source": [
    "maze_map_4x4 = [\n",
    "    \"SFFF\",\n",
    "    \"FWFW\",\n",
    "    \"FFFW\",\n",
    "    \"WFFG\"\n",
    "]"
   ]
  },
  {
   "cell_type": "markdown",
   "id": "f88c85f7",
   "metadata": {},
   "source": [
    "- `0`: UP\n",
    "- `1`: RIGHT\n",
    "- `2`: DOWN\n",
    "- `3`: LEFT"
   ]
  },
  {
   "cell_type": "code",
   "execution_count": null,
   "id": "f64e8cb4",
   "metadata": {},
   "outputs": [],
   "source": [
    "class MazeRewarder(Rewarder):\n",
    "    # todo: implement this\n",
    "    pass"
   ]
  },
  {
   "cell_type": "code",
   "execution_count": null,
   "id": "4588c2d7",
   "metadata": {},
   "outputs": [],
   "source": [
    "class Maze(Environment):\n",
    "    \n",
    "    def __init__(self, maze_map):\n",
    "        self.nrows = len(maze_map)\n",
    "        self.ncols = len(maze_map[0])\n",
    "        \n",
    "        self.maze_map = maze_map\n",
    "        \n",
    "        self.start_position_distribution = (self.maze_map == b\"S\").ravel().astype(\"float64\")\n",
    "        self.start_position_distribution /= self.maze_map.sum()\n",
    "        \n",
    "        self.action_space = None\n",
    "        self.observation_space = None\n",
    "        self.metadata = None  # can we skip this?\n",
    "        self._state = {\"position\": None}\n",
    "        self._rewarder = None\n",
    "    \n",
    "    def rowcol_to_pos(row, col):\n",
    "        return row * self.nrows + col\n",
    "    \n",
    "    def pos_to_rowcol(pos):\n",
    "        return pos / self.nrows, pos % self.nrows\n",
    "    \n",
    "    def reset(self, *, seed=None, return_info=False):\n",
    "        start_position = self.rng.choice(self.nrows * self.ncols, p=self.start_position_distribution)\n",
    "        self._state[\"position\"] = pos_to_rowcol(start_position)\n",
    "        \n",
    "        return super().reset(seed=seed, return_info=return_info)\n",
    "    \n",
    "    def _update_state(self, action):\n",
    "        # todo: implement this\n",
    "        pass\n",
    "    \n",
    "    def _obtain_observation(self):\n",
    "        return rowcol_to_pos(self._state[\"position\"])\n",
    "    \n",
    "    def _is_done(self):\n",
    "        row, col = self._state[\"position\"]\n",
    "        return self.maze_map[row][col] == b\"G\"\n",
    "    \n",
    "    def _obtain_info(self):\n",
    "        return {}"
   ]
  },
  {
   "cell_type": "code",
   "execution_count": null,
   "id": "f39a4410",
   "metadata": {},
   "outputs": [],
   "source": [
    "# todo: run script"
   ]
  },
  {
   "cell_type": "code",
   "execution_count": null,
   "id": "309b1708",
   "metadata": {},
   "outputs": [],
   "source": []
  }
 ],
 "metadata": {
  "kernelspec": {
   "display_name": "Python 3 (ipykernel)",
   "language": "python",
   "name": "python3"
  },
  "language_info": {
   "codemirror_mode": {
    "name": "ipython",
    "version": 3
   },
   "file_extension": ".py",
   "mimetype": "text/x-python",
   "name": "python",
   "nbconvert_exporter": "python",
   "pygments_lexer": "ipython3",
   "version": "3.9.10"
  }
 },
 "nbformat": 4,
 "nbformat_minor": 5
}
