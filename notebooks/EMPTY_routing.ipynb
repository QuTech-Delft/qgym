{
 "cells": [
  {
   "cell_type": "markdown",
   "id": "ed15d7a0",
   "metadata": {},
   "source": [
    "# Routing quantum operations\n",
    "\n",
    "In this notebook we will cover the QGym 'Routing' environment.\n",
    "\n",
    "This environment is aimed at enabling to execute the quantum circuit by putting those physical qubits into connection that have an interaction in the quantum circuit. This problem arises when there are mismatches between the interaction graph and\n",
    "the QPU-topology in the initial mapping."
   ]
  },
  {
   "cell_type": "markdown",
   "id": "6016ac6a",
   "metadata": {},
   "source": [
    "### Circuits\n",
    "\n",
    "The routing problem consist of applying SWAP gates to a quantum circuit such that it can be run on the target hardware.\n",
    "\n",
    "The quantum circuit is represented as an **interaction graph**, where each node represent a qubit and each edge represent an\n",
    "interaction between two qubits as defined by the circuit (See the example below). The QPU structure is called the **connection graph**. In the connection graph each node represents a physical qubit and each edge represent a connection between two qubits in the QPU.\n",
    "\n",
    "```console\n",
    "\n",
    "              QUANTUM CIRCUIT                        INTERACTION GRAPH\n",
    "           ┌───┐               ┌───┐\n",
    "    |q3>───┤ R ├───┬───────────┤ M ╞══                 q1 ────── q2\n",
    "           └───┘   │           └───┘                            ╱\n",
    "           ┌───┐ ┌─┴─┐         ┌───┐                           ╱\n",
    "    |q2>───┤ R ├─┤ X ├───┬─────┤ M ╞══                        ╱\n",
    "           └───┘ └───┘   │     └───┘                         ╱\n",
    "           ┌───┐       ┌─┴─┐   ┌───┐                        ╱\n",
    "    |q1>───┤ R ├───┬───┤ X ├───┤ M ╞══                     ╱\n",
    "           └───┘   │   └───┘   └───┘                      ╱\n",
    "           ┌───┐ ┌─┴─┐         ┌───┐                     ╱\n",
    "    |q0>───┤ R ├─┤ X ├─────────┤ M ╞══                q3 ─────── q4\n",
    "           └───┘ └───┘         └───┘\n",
    "```\n",
    "\n",
    "A SWAP-gate changes the mapping from logical qubits to physical qubits at a certain point in the circuit, and thereby allows to solve mismatchings from the initial mapping. The goal is to place SWAP-gates in the quantum circuit to fix the mismatches. The least amount of SWAP-gates is preferred. In more advanced setups, also different factors can be taken into account, like the fidelity of connections in the QPU."
   ]
  },
  {
   "cell_type": "code",
   "execution_count": null,
   "id": "28a7ac86",
   "metadata": {},
   "outputs": [],
   "source": [
    "%matplotlib inline\n",
    "import numpy as np\n",
    "import networkx as nx\n",
    "from networkx.generators import gnp_random_graph\n",
    "import matplotlib.pyplot as plt\n",
    "from stable_baselines3 import PPO\n",
    "from stable_baselines3.common.vec_env import SubprocVecEnv\n",
    "from IPython.display import clear_output\n",
    "\n",
    "from qgym.envs.routing import *"
   ]
  },
  {
   "cell_type": "code",
   "execution_count": null,
   "id": "cff5ec90",
   "metadata": {},
   "outputs": [],
   "source": [
    "def render_rgb(env):\n",
    "    \"\"\"Convenience method that we will use later on to display our results.\"\"\"\n",
    "    clear_output(wait=True)\n",
    "    plt.figure(figsize=(40, 20))\n",
    "    plt.title(f\"Step {env._state.steps_done}\", fontsize=40)\n",
    "    plt.imshow(env.render())\n",
    "    plt.axis(\"off\")\n",
    "    plt.show()"
   ]
  },
  {
   "cell_type": "markdown",
   "id": "f4560016",
   "metadata": {},
   "source": [
    "### Connection and interaction graph\n",
    "The routing problem is focussed around three things: \n",
    "1. The **interaction circuit**: an abstracted version of the quantum circuit. It does not show what gates are executed and leaves out single qubit gates. Instead it show for all multi-qubit gates between which qubits the gates are executed.\n",
    "2. The **connection graph**: the QPU structure represented as a graph. Each node of the graph represents a qubit and each edge of the graph represents a connection between the qubits. Multi qubit gates can only be executed if there is a connection between the qubits in the connection graph.\n",
    "3. The **mapping**: the mapping from logical qubits to physical qubits.\n",
    "\n",
    "The goal of the routing problem is to place swap gates at the right places in the quantum circuit such that every multi-qubit gate within interaction circuit can be executed.\n",
    "\n",
    "#### Toy hardware\n",
    "To explain this concept in more detail we start by defining a toy connection graph and by taking a look at some interaction circuits."
   ]
  },
  {
   "cell_type": "code",
   "execution_count": null,
   "id": "ae05933d",
   "metadata": {},
   "outputs": [],
   "source": [
    "connection_graph = nx.Graph()\n",
    "connection_graph.add_edges_from([(0, 1), (0, 2), (0, 3)])\n",
    "nx.draw(connection_graph, with_labels=True)"
   ]
  },
  {
   "cell_type": "markdown",
   "id": "c23fcdb1",
   "metadata": {},
   "source": [
    "### `Routing` environment\n",
    "\n",
    "Let us initialize the `Routing` environment.\n",
    "\n",
    "The `Routing` environment can be initialized by providing the following input:\n",
    "- *max_interaction_gates*: Each episode a new `interaction_circuit` is generated. This value sets the maximum length of the generated `interaction_circuit`.\n",
    "- *max_observation_reach*: Sets a cap on the maximum amount of gates the agent can see ahead when making an observation. When bigger that`max_interaction_gates` the agent will always see all gates ahead in an observation. Note that increasing this value increases the size of the observation space.\n",
    "- *observe_legal_surpasses*: If ``True`` a boolean array of length `observation_reach`, indicating whether the gates ahead can be executed, will be added to the observation space.\n",
    "- *observe_connection_graph*: If ``True``, the `connection_graph` will be incorporated in the observation_space. Reason to set it ``False`` is that is reduces the size of the observation space and the QPU-topology can be learned implicitly.\n",
    "- *connection_graph*: ``networkx`` graph representation of the QPU topology. Each node represents a physical qubit and each node represents a connection in the QPU topology.\n",
    "- *connection_graph_matrix*: Adjacency matrix representation of the QPU topology.\n",
    "- *connection_grid_size*: Size of the connection graph when the connection graph has a grid topology. For more information on the allowed values and types, see ``networkx`` `grid_graph`_ documentation.\n",
    "- *rewarder*: Rewarder to use for the environment. Must inherit from ``qgym.Rewarder``. If ``None`` (default), then ``BasicRewarder`` is used.\n",
    "- *render_mode*: If 'human' open a ``pygame`` screen visualizing the step. If 'rgb_array', return an RGB array encoding of the rendered frame on each render call.\n",
    "\n",
    "Note here that it is possible to give the input on the connection graph in three possible ways, preferably only one option is given. If more are given, it is parsed by choosing chronologically the first input."
   ]
  },
  {
   "cell_type": "code",
   "execution_count": null,
   "id": "710e2b64",
   "metadata": {},
   "outputs": [],
   "source": [
    "env = Routing(\n",
    "    max_interaction_gates=10,\n",
    "    max_observation_reach=5,\n",
    "    observe_legal_surpasses=True,\n",
    "    observe_connection_graph=True,\n",
    "    connection_graph=connection_graph,\n",
    "    render_mode=\"human\",\n",
    ")"
   ]
  },
  {
   "cell_type": "markdown",
   "id": "e66a13a2",
   "metadata": {},
   "source": [
    "#### State space\n",
    "The state space is described by a `State` with the following structure:\n",
    "- `max_interaction_gates`: Sets the maximum amount of gates in the interaction circuit when a new interaction_circuit is generated.\n",
    "- `max_observation_reach`: Sets a cap on the maximum amount of gates the agent can see ahead when making an observation. When bigger than `max_interaction_gates` the agent will always see all gates ahead in an observation.\n",
    "- `connection_graph`: ``networkx`` graph representation of the QPU topology. Each node represents a physical qubit and each edge represents a connection in the QPU topology.\n",
    "- `observe_legal_surpasses`: If ``True`` a boolean array of length `max_observation_reach`, indicating whether the gates ahead can be executed, will be added to the `observation_space`.\n",
    "- `observe_connection_graph`: If ``True``, the connection graph will be incorporated in the `observation_space`.\n",
    "\n",
    "### To Do\n",
    "Take a look at the state space in the code block below."
   ]
  },
  {
   "cell_type": "code",
   "execution_count": null,
   "id": "db88e475",
   "metadata": {},
   "outputs": [],
   "source": [
    "# todo: take a look at the state space"
   ]
  },
  {
   "cell_type": "markdown",
   "id": "64c96656",
   "metadata": {},
   "source": [
    "#### Action space\n",
    "A valid action is a tuple of integers $(i,j, k)$. I this tuple $i \\in \\{0, 1\\}$ and $0 \\leq j, k < n,$ where $n$ is the number of physical qubits. The first integer $i$ determines whether a SWAP gate is placed or not, while the second and third integers describe the specific swap gate. More specifically, if $i=0$ a SWAP-gate is applied to the physical qubits where logical qubits $j$ and $k$ are mapped unto, this action is called a **swap**. If $i=1$ the first observed gate will be surpassed, this action is called a **surpass**.\n",
    "\n",
    "A swap ($i=0$) is legal when:\n",
    "1. $j$ and $k$ are not equal; and\n",
    "2. the physical qubits corresponding to logical qubits $j$ and $k$ have a connection in the connection graph.\n",
    "\n",
    "### To Do\n",
    "Take a look at the action space in the code block below."
   ]
  },
  {
   "cell_type": "code",
   "execution_count": null,
   "id": "f10d72de",
   "metadata": {},
   "outputs": [],
   "source": [
    "# todo: take a look at the action space"
   ]
  },
  {
   "cell_type": "markdown",
   "id": "90410dc7",
   "metadata": {},
   "source": [
    "#### Observation space\n",
    "\n",
    "For this environment the entries that are in the observation space are chosen depending on the two flags `observe_connection_graph` and `observe_legal_surpasses`.\n",
    "\n",
    "Since we have chosen them to be both true, in our example each element in the observation space is a dictionary with four entries:\n",
    "- `interaction_gates_ahead`: the current state of the mapping\n",
    "- `mapping`: the flattened adjacency matrix of the interaction graph\n",
    "- `connection_graph`: the flattened adjacency matrix of the interaction graph\n",
    "- `is_legal_surpass`: the flattened adjacency matrix of the interaction graph\n",
    "\n",
    "### To Do\n",
    "Take a look at the observation space and see what the reset() method returns in the code block below."
   ]
  },
  {
   "cell_type": "code",
   "execution_count": null,
   "id": "5730965e",
   "metadata": {},
   "outputs": [],
   "source": [
    "# todo: take a look at the observation space and see what the reset() method returns"
   ]
  },
  {
   "cell_type": "markdown",
   "id": "e4e0448d",
   "metadata": {},
   "source": [
    "#### Rewarders\n",
    "\n",
    "We have pre-defined 3 different rewarders. All rewarders return a penalty when an illegal action is attempted. For valid actions their behaviour is as follows:\n",
    "\n",
    "- `BasicRewarder`: Every step a large penalty is given for an illegal action and a small penalty is given for applying a swap. A reward is given for each surpass.\n",
    "- `SwapQualityRewarder`: Has an adjusted penalty w.r.t. the ``BasicRewarder`` in the sense that good SWAPs give lower penalties and bad SWAPs give higher penalties. A SWAP is good if the number of observable upcoming gates that can be executed without an extra SWAP increases, a SWAP is bad if this number decreases.\n",
    "- `EpisodeRewarder`: At each step a penalty can be given for an illegal action. All other actions are rewarded/penalized at the end of the episode. The reward is the highest for the lowest amount of SWAPs.\n",
    "\n",
    "All these rewarders can be tweaked by altering either of their parameters:\n",
    "\n",
    "- `illegal_action_penalty`: Penalty given for attempting an illegal action (should be non-positive).\n",
    "- `penalty_per_swap`: Penalty for placing a swap (should be non-positive).\n",
    "- `reward_per_surpass`: Reward given for surpassing a gate (should be positive)."
   ]
  },
  {
   "cell_type": "markdown",
   "id": "9024af64",
   "metadata": {},
   "source": [
    "<br/>\n",
    "<br/>\n",
    "<br/>\n",
    "<br/>\n",
    "\n",
    "### Reinforcement learning\n",
    "\n",
    "Can we achieve a good route given our interaction circuit with reinforcement learning?\n",
    "\n",
    "Does changing the rewarder and/or its parameter give better results?\n",
    "\n",
    "### To Do\n",
    "Use the first code block to use your favorite rewarder.\n",
    "Next, use the second code block to train an agent."
   ]
  },
  {
   "cell_type": "code",
   "execution_count": null,
   "id": "b0d384b1",
   "metadata": {},
   "outputs": [],
   "source": [
    "# todo: pick your favorite rewarder\n",
    "env.rewarder = BasicRewarder"
   ]
  },
  {
   "cell_type": "code",
   "execution_count": null,
   "id": "7dd99620",
   "metadata": {},
   "outputs": [],
   "source": [
    "# todo: train a model on this environment.\n",
    "\n",
    "model.save(\"routing_1\")"
   ]
  },
  {
   "attachments": {
    "image-2.png": {
     "image/png": "[encoded data removed]"
    }
   },
   "cell_type": "markdown",
   "id": "70c50d05",
   "metadata": {},
   "source": [
    "From the circuit below abstract the relevant interaction circuit, give it to the agent and see what kind of schedule the agent produces.\n",
    "\n",
    "![image-2.png](attachment:image-2.png)\n",
    "\n",
    "### To Do\n",
    "Implement the corresponding interaction circuit in the first code block.\n",
    "Use the second code block to see how well the agent schedules the circuit."
   ]
  },
  {
   "cell_type": "code",
   "execution_count": null,
   "id": "9c10f349",
   "metadata": {},
   "outputs": [],
   "source": [
    "# todo: write the interaction circuit below, an interaction circuit is an array of 2-tuples of integers\n",
    "interaction_circuit = [(1, 3), (), ()]"
   ]
  },
  {
   "cell_type": "code",
   "execution_count": null,
   "id": "52131aaa",
   "metadata": {},
   "outputs": [],
   "source": [
    "model = PPO.load(\"routing_1\")\n",
    "obs, extra_info = env.reset(options={\"interaction_circuit\": interaction_circuit})\n",
    "for _ in range(1000):\n",
    "    action, states = model.predict(obs, deterministic=False)\n",
    "    obs, rewards, done, truncated, info = env.step(action)\n",
    "    render_rgb(env)\n",
    "    if done:\n",
    "        break"
   ]
  },
  {
   "cell_type": "markdown",
   "id": "bbcb53af",
   "metadata": {},
   "source": [
    "This probably gives quite some feeling of what is happening. Let's now try to do it for randomly generated circuits."
   ]
  },
  {
   "cell_type": "code",
   "execution_count": null,
   "id": "8f57faee",
   "metadata": {},
   "outputs": [],
   "source": [
    "obs, extra_info = env.reset()\n",
    "for _ in range(1000):\n",
    "    action, states = model.predict(obs, deterministic=False)\n",
    "    obs, rewards, done, truncated, info = env.step(action)\n",
    "    render_rgb(env)\n",
    "    if done:\n",
    "        break"
   ]
  },
  {
   "cell_type": "markdown",
   "id": "e17db492",
   "metadata": {},
   "source": [
    "<br/>\n",
    "<br/>\n",
    "<br/>\n",
    "<br/>\n",
    "\n",
    "### Different Rewarders\n",
    "\n",
    "Up to now, we have only used the `BasicRewarder`. However, we can also try out different rewarders and see what the effect is.\n",
    "The other preset rewarders in this environment are the `SwapQualityRewarder` and the `EpisodeRewarder`.\n",
    "\n",
    "### To Do\n",
    "Choose one of the other rewarders and train an agent on it on the circuit you had before and after that on some random circuits."
   ]
  },
  {
   "cell_type": "code",
   "execution_count": null,
   "id": "e789ed35",
   "metadata": {},
   "outputs": [],
   "source": [
    "env.rewarder = ..."
   ]
  },
  {
   "cell_type": "markdown",
   "id": "fee2b0e2",
   "metadata": {},
   "source": [
    "Train with this other rewarder"
   ]
  },
  {
   "cell_type": "code",
   "execution_count": null,
   "id": "9b0a77a4",
   "metadata": {},
   "outputs": [],
   "source": [
    "...\n",
    "model.save(\"routing_2\")"
   ]
  },
  {
   "cell_type": "markdown",
   "id": "3088d3ac",
   "metadata": {},
   "source": [
    "See what the prediction is on the same circuit as we had before."
   ]
  },
  {
   "cell_type": "code",
   "execution_count": null,
   "id": "0ca937f7",
   "metadata": {},
   "outputs": [],
   "source": [
    "obs, extra_info = env.reset()\n",
    "for _ in range(1000):\n",
    "    action, states = model.predict(obs, deterministic=False)\n",
    "    obs, rewards, done, truncated, info = env.step(action)\n",
    "    render_rgb(env)\n",
    "    if done:\n",
    "        break"
   ]
  },
  {
   "cell_type": "markdown",
   "id": "c60742c7",
   "metadata": {},
   "source": [
    "You could play a bit with different rewarders and adding your own rewarders. \n",
    "\n",
    "Something to think about:\n",
    "How easy is it to get the adjusted circuit, i.e. with inserted SWAP-gates, back? This is a post-processing step not yet implemented."
   ]
  },
  {
   "cell_type": "code",
   "execution_count": null,
   "id": "88e38823",
   "metadata": {},
   "outputs": [],
   "source": []
  }
 ],
 "metadata": {
  "kernelspec": {
   "display_name": "Python 3 (ipykernel)",
   "language": "python",
   "name": "python3"
  },
  "language_info": {
   "codemirror_mode": {
    "name": "ipython",
    "version": 3
   },
   "file_extension": ".py",
   "mimetype": "text/x-python",
   "name": "python",
   "nbconvert_exporter": "python",
   "pygments_lexer": "ipython3",
   "version": "3.11.2"
  }
 },
 "nbformat": 4,
 "nbformat_minor": 5
}
